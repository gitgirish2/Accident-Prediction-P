{
 "cells": [
  {
   "cell_type": "code",
   "execution_count": 1,
   "metadata": {},
   "outputs": [],
   "source": [
    "import numpy as np\n",
    "import pandas as pd\n",
    "from pandas import Series,DataFrame\n",
    "\n",
    "import matplotlib.pyplot as plt\n",
    "import seaborn as sns\n",
    "%matplotlib inline\n",
    "\n",
    "import sklearn\n",
    "from sklearn.linear_model import LogisticRegression\n",
    "from sklearn.linear_model import LinearRegression\n",
    "from sklearn import linear_model\n",
    "from sklearn.svm import SVC\n",
    "from sklearn.naive_bayes import GaussianNB\n",
    "from sklearn.neighbors import KNeighborsClassifier\n",
    "from sklearn.tree import DecisionTreeClassifier\n",
    "from sklearn.ensemble import RandomForestRegressor\n",
    "from sklearn import metrics"
   ]
  },
  {
   "cell_type": "code",
   "execution_count": 2,
   "metadata": {},
   "outputs": [],
   "source": [
    "data=pd.read_csv('dataset.csv')"
   ]
  },
  {
   "cell_type": "code",
   "execution_count": 3,
   "metadata": {},
   "outputs": [
    {
     "data": {
      "text/html": [
       "<div>\n",
       "<style scoped>\n",
       "    .dataframe tbody tr th:only-of-type {\n",
       "        vertical-align: middle;\n",
       "    }\n",
       "\n",
       "    .dataframe tbody tr th {\n",
       "        vertical-align: top;\n",
       "    }\n",
       "\n",
       "    .dataframe thead th {\n",
       "        text-align: right;\n",
       "    }\n",
       "</style>\n",
       "<table border=\"1\" class=\"dataframe\">\n",
       "  <thead>\n",
       "    <tr style=\"text-align: right;\">\n",
       "      <th></th>\n",
       "      <th>Day_of_Week</th>\n",
       "      <th>Road_Type</th>\n",
       "      <th>Speed_limit</th>\n",
       "      <th>Weather_Conditions</th>\n",
       "      <th>Light_Conditions</th>\n",
       "      <th>Road_Surface_Conditions</th>\n",
       "      <th>Target</th>\n",
       "    </tr>\n",
       "  </thead>\n",
       "  <tbody>\n",
       "    <tr>\n",
       "      <th>0</th>\n",
       "      <td>4</td>\n",
       "      <td>7</td>\n",
       "      <td>30</td>\n",
       "      <td>7</td>\n",
       "      <td>7</td>\n",
       "      <td>2</td>\n",
       "      <td>0</td>\n",
       "    </tr>\n",
       "    <tr>\n",
       "      <th>1</th>\n",
       "      <td>3</td>\n",
       "      <td>6</td>\n",
       "      <td>20</td>\n",
       "      <td>7</td>\n",
       "      <td>1</td>\n",
       "      <td>3</td>\n",
       "      <td>0</td>\n",
       "    </tr>\n",
       "    <tr>\n",
       "      <th>2</th>\n",
       "      <td>2</td>\n",
       "      <td>1</td>\n",
       "      <td>40</td>\n",
       "      <td>6</td>\n",
       "      <td>5</td>\n",
       "      <td>3</td>\n",
       "      <td>0</td>\n",
       "    </tr>\n",
       "    <tr>\n",
       "      <th>3</th>\n",
       "      <td>4</td>\n",
       "      <td>6</td>\n",
       "      <td>40</td>\n",
       "      <td>6</td>\n",
       "      <td>6</td>\n",
       "      <td>3</td>\n",
       "      <td>0</td>\n",
       "    </tr>\n",
       "    <tr>\n",
       "      <th>4</th>\n",
       "      <td>2</td>\n",
       "      <td>7</td>\n",
       "      <td>60</td>\n",
       "      <td>2</td>\n",
       "      <td>4</td>\n",
       "      <td>5</td>\n",
       "      <td>0</td>\n",
       "    </tr>\n",
       "  </tbody>\n",
       "</table>\n",
       "</div>"
      ],
      "text/plain": [
       "   Day_of_Week  Road_Type  Speed_limit  Weather_Conditions  Light_Conditions  \\\n",
       "0            4          7           30                   7                 7   \n",
       "1            3          6           20                   7                 1   \n",
       "2            2          1           40                   6                 5   \n",
       "3            4          6           40                   6                 6   \n",
       "4            2          7           60                   2                 4   \n",
       "\n",
       "   Road_Surface_Conditions  Target  \n",
       "0                        2       0  \n",
       "1                        3       0  \n",
       "2                        3       0  \n",
       "3                        3       0  \n",
       "4                        5       0  "
      ]
     },
     "execution_count": 3,
     "metadata": {},
     "output_type": "execute_result"
    }
   ],
   "source": [
    "data.head()"
   ]
  },
  {
   "cell_type": "code",
   "execution_count": 4,
   "metadata": {},
   "outputs": [],
   "source": [
    "data0=data[data['Target']==0]\n",
    "data1=data[data['Target']==1]"
   ]
  },
  {
   "cell_type": "code",
   "execution_count": 5,
   "metadata": {},
   "outputs": [],
   "source": [
    "dow=list(set(data['Day_of_Week']))\n",
    "rt=list(set(data['Road_Type']))\n",
    "sl=list(set(data['Speed_limit']))\n",
    "lc=list(set(data['Light_Conditions']))\n",
    "wc=list(set(data['Weather_Conditions']))\n",
    "rsc=list(set(data['Road_Surface_Conditions']))\n",
    "dow.sort()\n",
    "rt.sort()\n",
    "sl.sort()\n",
    "lc.sort()\n",
    "wc.sort()\n",
    "rsc.sort()\n",
    "dowC0,dowC1=[],[]\n",
    "for x in dow:\n",
    "    dowC0.append(list(data0['Day_of_Week']).count(x))\n",
    "    dowC1.append(list(data1['Day_of_Week']).count(x))\n",
    "rtC0,rtC1=[],[]\n",
    "for x in rt:\n",
    "    rtC0.append(list(data0['Road_Type']).count(x))\n",
    "    rtC1.append(list(data1['Road_Type']).count(x))\n",
    "slC0,slC1=[],[]\n",
    "for x in sl:\n",
    "    slC0.append(list(data0['Speed_limit']).count(x))\n",
    "    slC1.append(list(data1['Speed_limit']).count(x))\n",
    "lcC0,lcC1=[],[]\n",
    "for x in lc:\n",
    "    lcC0.append(list(data0['Light_Conditions']).count(x))\n",
    "    lcC1.append(list(data1['Light_Conditions']).count(x))\n",
    "wcC0,wcC1=[],[]\n",
    "for x in wc:\n",
    "    wcC0.append(list(data0['Weather_Conditions']).count(x))\n",
    "    wcC1.append(list(data1['Weather_Conditions']).count(x))\n",
    "rscC0,rscC1=[],[]\n",
    "for x in rsc:\n",
    "    rscC0.append(list(data0['Road_Surface_Conditions']).count(x))\n",
    "    rscC1.append(list(data1['Road_Surface_Conditions']).count(x))"
   ]
  },
  {
   "cell_type": "code",
   "execution_count": 6,
   "metadata": {},
   "outputs": [],
   "source": [
    "dowcode={\n",
    "    1:'Sunday',\n",
    "    2:'Monday',\n",
    "    3:'Tuesday',\n",
    "    4:'Wednusday',\n",
    "    5:'Thursday',\n",
    "    6:'Friday',\n",
    "    7:'Saturday'\n",
    "}\n",
    "rtcode={\n",
    "    1:'Round About',\n",
    "    2:'One Way Street',\n",
    "    3:'Dual Carriageway',\n",
    "    6:'Single Carriageway',\n",
    "    7:'Slip Road'\n",
    "}\n",
    "lccode={\n",
    "    1:'Day Light',\n",
    "    4:'Darkness Lights Lit',\n",
    "    5:'Darkness Lights Unlit',\n",
    "    6:'Darkness No Lighting',\n",
    "    7:'Darkness Lighting Unknown'\n",
    "}\n",
    "wccode={\n",
    "    1:'Fine without high winds',\n",
    "    2:'Raining without high winds',\n",
    "    3:'Snowing without high winds',\n",
    "    4:'Fine with high winds',\n",
    "    5:'Raining with high winds',\n",
    "    6:'Snowing with high winds',\n",
    "    7:'Snow or Mist'\n",
    "}\n",
    "rsccode={\n",
    "    1:'Dry',\n",
    "    2:'Wet/Damp',\n",
    "    3:'Snow',\n",
    "    4:'Ice',\n",
    "    5:'Flood'\n",
    "}"
   ]
  },
  {
   "cell_type": "code",
   "execution_count": 7,
   "metadata": {},
   "outputs": [
    {
     "data": {
      "image/png": "[encoded data removed]",
      "text/plain": [
       "<Figure size 432x288 with 1 Axes>"
      ]
     },
     "metadata": {
      "needs_background": "light"
     },
     "output_type": "display_data"
    }
   ],
   "source": [
    "r1 = np.arange(len(dow))\n",
    "r2 = [x + 0.4 for x in r1]\n",
    "plt.bar(r1, dowC0, color='#0303fc',width=0.4)\n",
    "plt.bar(r2, dowC1, color='#fc0303',width=0.4)\n",
    "plt.xlabel('Day of Week', fontweight='bold')\n",
    "plt.xticks([r + 0.4 for r in range(len(dow))], dow)\n",
    "plt.legend(('No Accident','Accident'),loc='lower right')\n",
    "plt.show()"
   ]
  },
  {
   "cell_type": "code",
   "execution_count": 8,
   "metadata": {},
   "outputs": [
    {
     "data": {
      "image/png": "[encoded data removed]",
      "text/plain": [
       "<Figure size 432x288 with 1 Axes>"
      ]
     },
     "metadata": {
      "needs_background": "light"
     },
     "output_type": "display_data"
    }
   ],
   "source": [
    "r1 = np.arange(len(rt))\n",
    "r2 = [x + 0.4 for x in r1]\n",
    "plt.bar(r1, rtC0, color='#0303fc',width=0.4)\n",
    "plt.bar(r2, rtC1, color='#fc0303',width=0.4)\n",
    "plt.xlabel('Road Type', fontweight='bold')\n",
    "plt.xticks([r + 0.4 for r in range(len(rt))], rt)\n",
    "plt.legend(('No Accident','Accident'),loc='lower right')\n",
    "plt.show()"
   ]
  },
  {
   "cell_type": "code",
   "execution_count": 9,
   "metadata": {},
   "outputs": [
    {
     "data": {
      "image/png": "[encoded data removed]",
      "text/plain": [
       "<Figure size 432x288 with 1 Axes>"
      ]
     },
     "metadata": {
      "needs_background": "light"
     },
     "output_type": "display_data"
    }
   ],
   "source": [
    "r1 = np.arange(len(sl))\n",
    "r2 = [x + 0.4 for x in r1]\n",
    "plt.bar(r1, slC0, color='#0303fc',width=0.4)\n",
    "plt.bar(r2, slC1, color='#fc0303',width=0.4)\n",
    "plt.xlabel('Speed Limit', fontweight='bold')\n",
    "plt.xticks([r + 0.4 for r in range(len(sl))], sl)\n",
    "plt.legend(('No Accident','Accident'),loc='lower right')\n",
    "plt.show()"
   ]
  },
  {
   "cell_type": "code",
   "execution_count": 10,
   "metadata": {},
   "outputs": [
    {
     "data": {
      "image/png": "[encoded data removed]",
      "text/plain": [
       "<Figure size 432x288 with 1 Axes>"
      ]
     },
     "metadata": {
      "needs_background": "light"
     },
     "output_type": "display_data"
    }
   ],
   "source": [
    "r1 = np.arange(len(lc))\n",
    "r2 = [x + 0.4 for x in r1]\n",
    "plt.bar(r1, lcC0, color='#0303fc',width=0.4)\n",
    "plt.bar(r2, lcC1, color='#fc0303',width=0.4)\n",
    "plt.xlabel('Light Conditions', fontweight='bold')\n",
    "plt.xticks([r + 0.4 for r in range(len(lc))], lc)\n",
    "plt.legend(('No Accident','Accident'),loc='lower right')\n",
    "plt.show()"
   ]
  },
  {
   "cell_type": "code",
   "execution_count": 11,
   "metadata": {},
   "outputs": [
    {
     "data": {
      "image/png": "[encoded data removed]",
      "text/plain": [
       "<Figure size 432x288 with 1 Axes>"
      ]
     },
     "metadata": {
      "needs_background": "light"
     },
     "output_type": "display_data"
    }
   ],
   "source": [
    "r1 = np.arange(len(wc))\n",
    "r2 = [x + 0.4 for x in r1]\n",
    "plt.bar(r1, wcC0, color='#0303fc',width=0.4)\n",
    "plt.bar(r2, wcC1, color='#fc0303',width=0.4)\n",
    "plt.xlabel('Weather Conditons', fontweight='bold')\n",
    "plt.xticks([r + 0.4 for r in range(len(wc))], wc)\n",
    "plt.legend(('No Accident','Accident'),loc='lower right')\n",
    "plt.show()"
   ]
  },
  {
   "cell_type": "code",
   "execution_count": 12,
   "metadata": {},
   "outputs": [
    {
     "data": {
      "image/png": "[encoded data removed]",
      "text/plain": [
       "<Figure size 432x288 with 1 Axes>"
      ]
     },
     "metadata": {
      "needs_background": "light"
     },
     "output_type": "display_data"
    }
   ],
   "source": [
    "r1 = np.arange(len(rsc))\n",
    "r2 = [x + 0.4 for x in r1]\n",
    "plt.bar(r1, rscC0, color='#0303fc',width=0.4)\n",
    "plt.bar(r2, rscC1, color='#fc0303',width=0.4)\n",
    "plt.xlabel('Road Surface Conditions', fontweight='bold')\n",
    "plt.xticks([r + 0.4 for r in range(len(rsc))], rsc)\n",
    "plt.legend(('No Accident','Accident'),loc='lower right')\n",
    "plt.show()"
   ]
  },
  {
   "cell_type": "code",
   "execution_count": 13,
   "metadata": {},
   "outputs": [],
   "source": [
    "X=data.drop('Target',axis=1)\n",
    "Y=data['Target']"
   ]
  },
  {
   "cell_type": "code",
   "execution_count": 14,
   "metadata": {},
   "outputs": [],
   "source": [
    "X_train, X_test, Y_train, Y_test = sklearn.model_selection.train_test_split(X,Y)"
   ]
  },
  {
   "cell_type": "code",
   "execution_count": 15,
   "metadata": {},
   "outputs": [
    {
     "name": "stderr",
     "output_type": "stream",
     "text": [
      "C:\\ProgramData\\Anaconda3\\lib\\site-packages\\sklearn\\linear_model\\logistic.py:433: FutureWarning: Default solver will be changed to 'lbfgs' in 0.22. Specify a solver to silence this warning.\n",
      "  FutureWarning)\n"
     ]
    },
    {
     "name": "stdout",
     "output_type": "stream",
     "text": [
      "0.930915\n",
      "0.93106\n"
     ]
    }
   ],
   "source": [
    "logregmodel=LogisticRegression().fit(X_train,Y_train)\n",
    "print(logregmodel.score(X,Y))\n",
    "Y_pred = logregmodel.predict(X_test)\n",
    "print(metrics.accuracy_score(Y_test,Y_pred))"
   ]
  },
  {
   "cell_type": "code",
   "execution_count": 20,
   "metadata": {},
   "outputs": [
    {
     "name": "stdout",
     "output_type": "stream",
     "text": [
      "0.96146\n",
      "0.95786\n"
     ]
    }
   ],
   "source": [
    "knnmodel=KNeighborsClassifier(n_neighbors = 2).fit(X_train,Y_train)\n",
    "print(knnmodel.score(X,Y))\n",
    "Y_pred = knnmodel.predict(X_test)\n",
    "print(metrics.accuracy_score(Y_test,Y_pred))"
   ]
  },
  {
   "cell_type": "code",
   "execution_count": 17,
   "metadata": {},
   "outputs": [
    {
     "name": "stderr",
     "output_type": "stream",
     "text": [
      "C:\\ProgramData\\Anaconda3\\lib\\site-packages\\sklearn\\svm\\base.py:196: FutureWarning: The default value of gamma will change from 'auto' to 'scale' in version 0.22 to account better for unscaled features. Set gamma explicitly to 'auto' or 'scale' to avoid this warning.\n",
      "  \"avoid this warning.\", FutureWarning)\n"
     ]
    },
    {
     "name": "stdout",
     "output_type": "stream",
     "text": [
      "0.966345\n",
      "0.96508\n"
     ]
    }
   ],
   "source": [
    "svmmodel=SVC().fit(X_train,Y_train)\n",
    "print(svmmodel.score(X,Y))\n",
    "Y_pred = svmmodel.predict(X_test)\n",
    "print(metrics.accuracy_score(Y_test,Y_pred))"
   ]
  },
  {
   "cell_type": "code",
   "execution_count": 18,
   "metadata": {},
   "outputs": [
    {
     "name": "stdout",
     "output_type": "stream",
     "text": [
      "0.93315\n",
      "0.9329\n"
     ]
    }
   ],
   "source": [
    "nbmodel=GaussianNB().fit(X_train,Y_train)\n",
    "print(nbmodel.score(X,Y))\n",
    "Y_pred = nbmodel.predict(X_test)\n",
    "print(metrics.accuracy_score(Y_test,Y_pred))"
   ]
  },
  {
   "cell_type": "code",
   "execution_count": 19,
   "metadata": {},
   "outputs": [
    {
     "name": "stdout",
     "output_type": "stream",
     "text": [
      "0.92939\n",
      "0.92922\n"
     ]
    }
   ],
   "source": [
    "dtmodel=DecisionTreeClassifier(max_depth=3,random_state=0).fit(X_train,Y_train)\n",
    "print(dtmodel.score(X,Y))\n",
    "Y_pred = dtmodel.predict(X_test)\n",
    "print(metrics.accuracy_score(Y_test,Y_pred))"
   ]
  },
  {
   "cell_type": "code",
   "execution_count": null,
   "metadata": {},
   "outputs": [],
   "source": []
  }
 ],
 "metadata": {
  "kernelspec": {
   "display_name": "Python 3",
   "language": "python",
   "name": "python3"
  },
  "language_info": {
   "codemirror_mode": {
    "name": "ipython",
    "version": 3
   },
   "file_extension": ".py",
   "mimetype": "text/x-python",
   "name": "python",
   "nbconvert_exporter": "python",
   "pygments_lexer": "ipython3",
   "version": "3.7.3"
  }
 },
 "nbformat": 4,
 "nbformat_minor": 2
}
